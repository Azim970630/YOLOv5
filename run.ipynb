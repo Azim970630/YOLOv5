{
 "cells": [
  {
   "cell_type": "code",
   "execution_count": 13,
   "id": "0f5e8525",
   "metadata": {},
   "outputs": [],
   "source": [
    "import torch\n",
    "import gradio as gr\n",
    "from PIL import Image\n",
    "import pandas as pd"
   ]
  },
  {
   "cell_type": "code",
   "execution_count": 14,
   "id": "dae3f572",
   "metadata": {},
   "outputs": [
    {
     "name": "stderr",
     "output_type": "stream",
     "text": [
      "Using cache found in C:\\Users\\azima/.cache\\torch\\hub\\ultralytics_yolov5_master\n",
      "YOLOv5  2022-9-19 Python-3.10.2 torch-1.12.1+cpu CPU\n",
      "\n",
      "Fusing layers... \n",
      "YOLOv5s summary: 213 layers, 7225885 parameters, 0 gradients\n",
      "Adding AutoShape... \n"
     ]
    }
   ],
   "source": [
    "model = torch.hub.load('ultralytics/yolov5', 'yolov5s', pretrained=True)"
   ]
  },
  {
   "cell_type": "code",
   "execution_count": 17,
   "id": "99b8d0ee",
   "metadata": {},
   "outputs": [],
   "source": [
    "def process(image):\n",
    "    image = Image.fromarray(image)\n",
    "    image.thumbnail((1024, 1024))\n",
    "    results = model(image, augment=True)\n",
    "    results.save()\n",
    "    \n",
    "    df = results.pandas().xyxy[0]\n",
    "    df.to_csv('output.csv', index=False)\n",
    "    \n",
    "    return results.ims[0]"
   ]
  },
  {
   "cell_type": "code",
   "execution_count": 27,
   "id": "dee3665a",
   "metadata": {},
   "outputs": [
    {
     "name": "stdout",
     "output_type": "stream",
     "text": [
      "Running on local URL:  http://127.0.0.1:7867\n"
     ]
    },
    {
     "name": "stderr",
     "output_type": "stream",
     "text": [
      "Connected (version 2.0, client OpenSSH_7.6p1)\n",
      "Authentication (publickey) successful!\n"
     ]
    },
    {
     "name": "stdout",
     "output_type": "stream",
     "text": [
      "Running on public URL: https://15006.gradio.app\n",
      "\n",
      "This share link expires in 72 hours. For free permanent hosting, check out Spaces: https://huggingface.co/spaces\n"
     ]
    },
    {
     "data": {
      "text/html": [
       "<div><iframe src=\"https://15006.gradio.app\" width=\"900\" height=\"500\" allow=\"autoplay; camera; microphone;\" frameborder=\"0\" allowfullscreen></iframe></div>"
      ],
      "text/plain": [
       "<IPython.core.display.HTML object>"
      ]
     },
     "metadata": {},
     "output_type": "display_data"
    },
    {
     "data": {
      "text/plain": [
       "(<gradio.routes.App at 0x2048197b460>,\n",
       " 'http://127.0.0.1:7867/',\n",
       " 'https://15006.gradio.app')"
      ]
     },
     "execution_count": 27,
     "metadata": {},
     "output_type": "execute_result"
    },
    {
     "name": "stderr",
     "output_type": "stream",
     "text": [
      "Saved 1 image to \u001b[1mruns\\detect\\exp14\u001b[0m\n"
     ]
    }
   ],
   "source": [
    "gr.Interface(process, \"image\", \"image\").launch(share=True)"
   ]
  },
  {
   "cell_type": "code",
   "execution_count": 31,
   "id": "fc83f677",
   "metadata": {},
   "outputs": [
    {
     "data": {
      "text/plain": [
       "cat    4\n",
       "Name: name, dtype: int64"
      ]
     },
     "execution_count": 31,
     "metadata": {},
     "output_type": "execute_result"
    },
    {
     "name": "stderr",
     "output_type": "stream",
     "text": [
      "Saved 1 image to \u001b[1mruns\\detect\\exp17\u001b[0m\n",
      "Saved 1 image to \u001b[1mruns\\detect\\exp18\u001b[0m\n",
      "Saved 1 image to \u001b[1mruns\\detect\\exp19\u001b[0m\n",
      "Saved 1 image to \u001b[1mruns\\detect\\exp\u001b[0m\n"
     ]
    }
   ],
   "source": [
    "df = pd.read_csv('output.csv')\n",
    "df[df['confidence']>=0.5]['name'].value_counts()"
   ]
  },
  {
   "cell_type": "code",
   "execution_count": null,
   "id": "f119a4f0",
   "metadata": {},
   "outputs": [],
   "source": []
  },
  {
   "cell_type": "code",
   "execution_count": null,
   "id": "5c8d5c65",
   "metadata": {},
   "outputs": [],
   "source": []
  }
 ],
 "metadata": {
  "kernelspec": {
   "display_name": "Python 3 (ipykernel)",
   "language": "python",
   "name": "python3"
  },
  "language_info": {
   "codemirror_mode": {
    "name": "ipython",
    "version": 3
   },
   "file_extension": ".py",
   "mimetype": "text/x-python",
   "name": "python",
   "nbconvert_exporter": "python",
   "pygments_lexer": "ipython3",
   "version": "3.10.2"
  }
 },
 "nbformat": 4,
 "nbformat_minor": 5
}
